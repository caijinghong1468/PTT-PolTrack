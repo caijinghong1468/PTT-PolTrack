{
 "cells": [
  {
   "cell_type": "markdown",
   "id": "1a6a7545-1204-4e3f-a3c5-2d5d19369cb4",
   "metadata": {},
   "source": [
    "# **🦹🏼Model訓練**"
   ]
  },
  {
   "cell_type": "markdown",
   "id": "008b3b82-a6d5-4643-96ef-291d2452a5f6",
   "metadata": {},
   "source": [
    "### 🧰 安裝工具箱"
   ]
  },
  {
   "cell_type": "code",
   "execution_count": 25,
   "id": "2b2c0ecf-031e-4327-abbf-0beb1a1f5a87",
   "metadata": {},
   "outputs": [],
   "source": [
    "# 資料前處理\n",
    "import os\n",
    "from os import path\n",
    "import jieba\n",
    "from sklearn.model_selection import train_test_split # 用來切割資料集\n",
    "from sklearn.preprocessing import LabelEncoder # 用來將標籤轉換成機器看得懂的格式\n",
    "from sklearn import tree # 從sklearn的模型選擇工具箱裡面把用來訓練模型的工具拿出來\n",
    "import pandas as pd # 用來開啟資料集\n",
    "import re # 用來抓取或者清理資料中的資訊\n",
    "# 抓取特徵\n",
    "from sklearn.feature_extraction.text import CountVectorizer\n",
    "from sklearn.feature_extraction.text import TfidfVectorizer\n",
    "\n",
    "# 訓練模型\n",
    "from sklearn.model_selection import train_test_split\n",
    "from sklearn.tree import DecisionTreeClassifier\n",
    "from sklearn.ensemble import RandomForestClassifier\n",
    "from sklearn.linear_model import LogisticRegression\n",
    "from sklearn.svm import SVC\n",
    "from sklearn.naive_bayes import MultinomialNB\n",
    "# 評估模型\n",
    "from sklearn.metrics import ConfusionMatrixDisplay, precision_recall_fscore_support, accuracy_score\n",
    "\n",
    "def text_length(data):\n",
    "  sentence_length=[]\n",
    "  for comment in data:\n",
    "    length=len(comment)\n",
    "    sentence_length.append(length)\n",
    "  return sentence_length\n",
    "\n",
    "def frequency(data,regex):\n",
    "  freq=[]\n",
    "  for string in data:\n",
    "      count = len(re.findall(regex, string))\n",
    "      freq.append(count)\n",
    "  return freq\n",
    "\n",
    "def boolean(data, regex):\n",
    "  boolean_list = []\n",
    "  for comment in data:\n",
    "    word_match = bool(re.search(regex, comment))\n",
    "    boolean_list.append(word_match)\n",
    "  return boolean_list"
   ]
  },
  {
   "cell_type": "markdown",
   "id": "2b0d6b16-0a37-44b9-aede-bb422ed452fa",
   "metadata": {},
   "source": [
    "### 🪚 這是用來**斷詞**的"
   ]
  },
  {
   "cell_type": "code",
   "execution_count": 26,
   "id": "b8c1f29c-4a3f-4b9c-a730-9599034a89e3",
   "metadata": {},
   "outputs": [],
   "source": [
    "def segment(text):\n",
    "  return jieba.lcut(text)"
   ]
  },
  {
   "cell_type": "markdown",
   "id": "d590f5df-ca06-4953-9c28-6599e7715c6a",
   "metadata": {},
   "source": [
    "### 🔍 這是用來**抓取特徵**的"
   ]
  },
  {
   "cell_type": "code",
   "execution_count": 27,
   "id": "2aabbc15-0503-4f06-9b4f-8d82ce8a4361",
   "metadata": {},
   "outputs": [],
   "source": [
    "def feature_extract(text, vectorizer):\n",
    "  # 將 list 元素轉換為字串\n",
    "  text = [' '.join(tokens) for tokens in text]  \n",
    "  matrix = vectorizer.fit_transform(text)\n",
    "  array = vectorizer.get_feature_names_out()\n",
    "  feature_df = pd.DataFrame(matrix.toarray(), columns = array)\n",
    "  return feature_df"
   ]
  },
  {
   "cell_type": "markdown",
   "id": "22fb35cf-f51f-4297-9842-de1193475019",
   "metadata": {},
   "source": [
    "### ⚙️ 這是用來**訓練模型**的"
   ]
  },
  {
   "cell_type": "code",
   "execution_count": 28,
   "id": "e01d7564-7840-4733-8a8b-a235445ad10d",
   "metadata": {},
   "outputs": [],
   "source": [
    "class Model:\n",
    "  def __init__(self, feature, label, model):\n",
    "    self.feature = feature\n",
    "    self.label = label\n",
    "    self.model = model\n",
    "\n",
    "  # 將 data 分為 training set & test set\n",
    "  def split_data(self):\n",
    "    self.feat_train, self.feat_test, self.label_train, self.label_test = train_test_split(self.feature, self.label, test_size=0.2, random_state = 123) # test_size=0.2表示test set佔20%\n",
    "\n",
    "  # 用training set 訓練模型\n",
    "  def model_train(self):\n",
    "    self.model.fit(self.feat_train, self.label_train)\n",
    "\n",
    "  # 用訓練好的模型預測 test set\n",
    "  def model_predict(self):\n",
    "    self.prediction = self.model.predict(self.feat_test)\n",
    "    print('predicted result: ' + str(self.prediction))\n",
    "\n",
    "  # 評估模型表現\n",
    "  def model_evaluate(self):\n",
    "    print(ConfusionMatrixDisplay.from_predictions(self.label_test, self.prediction, cmap = \"Blues\")) # 混淆矩陣\n",
    "    evaluation = precision_recall_fscore_support(self.label_test, self.prediction, average='macro') # 計算 precision, recall, F-score\n",
    "    accuracy = accuracy_score(self.label_test, self.prediction) # 計算 accuracy\n",
    "    print(\"accuracy: \" + str(round(accuracy, 2)) + \"\\nprecision: \" + str(round(evaluation[0], 2)) + \"\\nrecall: \" + str(round(evaluation[1], 2)) + \"\\nfscore: \" + str(round(evaluation[2],2)))\n"
   ]
  },
  {
   "cell_type": "markdown",
   "id": "9c3fba9a-48c5-4837-a45f-b7a991dba858",
   "metadata": {},
   "source": [
    " ### 🧻使用jieba做斷詞與刪除stopwords\n",
    "   ##### 程式內容：\n",
    " - 載入停用詞和使用者字典\n",
    " - 使用jieba斷詞並移除斷詞中的停用詞，最後將處理後的結果存回內文欄位。"
   ]
  },
  {
   "cell_type": "code",
   "execution_count": 29,
   "id": "29f171b0-3fca-4192-964f-13aa01438379",
   "metadata": {},
   "outputs": [],
   "source": [
    "output = []\n",
    "df_new = pd.DataFrame()\n",
    "file = './src/jieba_clean_result.csv'\n",
    "stopword = open(\"stopwords_zhTW.txt\", \"r\", encoding='UTF-8').read()\n",
    "stopword_list = stopword.split(\"\\n\")\n",
    "df = pd.read_csv('./src/original_data.csv')\n",
    "new_word = open(\"./src/my_dict.txt\", \"r\", encoding='UTF-8').read()\n",
    "jieba.load_userdict(\"./src/my_dict.txt\")\n",
    "for text in df['內文']:\n",
    "  jieba_clean_result = []\n",
    "  jieba_result = jieba.lcut(text)\n",
    "  for token in jieba_result:\n",
    "    if token not in stopword_list:\n",
    "      jieba_clean_result.append(token)\n",
    "  output.append(jieba_clean_result)\n",
    "df_new['jieba_clean_result'] = output\n",
    "df_new.to_csv(file,index=False)"
   ]
  },
  {
   "cell_type": "markdown",
   "id": "ce49dcd6-4f67-40e3-b1ff-caaf7b553e43",
   "metadata": {},
   "source": [
    "### 📑 TF-IDF\n",
    "一樣用`feature_extract()`的功能\\\n",
    "`TfidfVectorizer()` 是計算 TF-IDF 的工具"
   ]
  },
  {
   "cell_type": "code",
   "execution_count": 30,
   "id": "ec0b4308-3686-4e4d-aa60-b5367b836653",
   "metadata": {
    "scrolled": true
   },
   "outputs": [
    {
     "name": "stderr",
     "output_type": "stream",
     "text": [
      "/Library/Frameworks/Python.framework/Versions/3.13/lib/python3.13/site-packages/sklearn/feature_extraction/text.py:517: UserWarning: The parameter 'token_pattern' will not be used since 'tokenizer' is not None'\n",
      "  warnings.warn(\n"
     ]
    },
    {
     "data": {
      "text/html": [
       "<div>\n",
       "<style scoped>\n",
       "    .dataframe tbody tr th:only-of-type {\n",
       "        vertical-align: middle;\n",
       "    }\n",
       "\n",
       "    .dataframe tbody tr th {\n",
       "        vertical-align: top;\n",
       "    }\n",
       "\n",
       "    .dataframe thead th {\n",
       "        text-align: right;\n",
       "    }\n",
       "</style>\n",
       "<table border=\"1\" class=\"dataframe\">\n",
       "  <thead>\n",
       "    <tr style=\"text-align: right;\">\n",
       "      <th></th>\n",
       "      <th></th>\n",
       "      <th>##</th>\n",
       "      <th>#%</th>\n",
       "      <th>-&amp;</th>\n",
       "      <th>-&amp;_</th>\n",
       "      <th>--&amp;</th>\n",
       "      <th>---</th>\n",
       "      <th>----</th>\n",
       "      <th>----++</th>\n",
       "      <th>-----</th>\n",
       "      <th>...</th>\n",
       "      <th>ｂ</th>\n",
       "      <th>ｃ</th>\n",
       "      <th>ｅ</th>\n",
       "      <th>ｉ</th>\n",
       "      <th>ｌ</th>\n",
       "      <th>ｎ</th>\n",
       "      <th>ｐ</th>\n",
       "      <th>ｒ</th>\n",
       "      <th>ｓ</th>\n",
       "      <th>ｕ</th>\n",
       "    </tr>\n",
       "  </thead>\n",
       "  <tbody>\n",
       "    <tr>\n",
       "      <th>0</th>\n",
       "      <td>0.837315</td>\n",
       "      <td>0.0</td>\n",
       "      <td>0.0</td>\n",
       "      <td>0.0</td>\n",
       "      <td>0.0</td>\n",
       "      <td>0.0</td>\n",
       "      <td>0.0</td>\n",
       "      <td>0.000000</td>\n",
       "      <td>0.0</td>\n",
       "      <td>0.000000</td>\n",
       "      <td>...</td>\n",
       "      <td>0.0</td>\n",
       "      <td>0.0</td>\n",
       "      <td>0.0</td>\n",
       "      <td>0.0</td>\n",
       "      <td>0.0</td>\n",
       "      <td>0.0</td>\n",
       "      <td>0.0</td>\n",
       "      <td>0.0</td>\n",
       "      <td>0.0</td>\n",
       "      <td>0.0</td>\n",
       "    </tr>\n",
       "    <tr>\n",
       "      <th>1</th>\n",
       "      <td>0.849669</td>\n",
       "      <td>0.0</td>\n",
       "      <td>0.0</td>\n",
       "      <td>0.0</td>\n",
       "      <td>0.0</td>\n",
       "      <td>0.0</td>\n",
       "      <td>0.0</td>\n",
       "      <td>0.057318</td>\n",
       "      <td>0.0</td>\n",
       "      <td>0.000000</td>\n",
       "      <td>...</td>\n",
       "      <td>0.0</td>\n",
       "      <td>0.0</td>\n",
       "      <td>0.0</td>\n",
       "      <td>0.0</td>\n",
       "      <td>0.0</td>\n",
       "      <td>0.0</td>\n",
       "      <td>0.0</td>\n",
       "      <td>0.0</td>\n",
       "      <td>0.0</td>\n",
       "      <td>0.0</td>\n",
       "    </tr>\n",
       "    <tr>\n",
       "      <th>2</th>\n",
       "      <td>0.718991</td>\n",
       "      <td>0.0</td>\n",
       "      <td>0.0</td>\n",
       "      <td>0.0</td>\n",
       "      <td>0.0</td>\n",
       "      <td>0.0</td>\n",
       "      <td>0.0</td>\n",
       "      <td>0.000000</td>\n",
       "      <td>0.0</td>\n",
       "      <td>0.000000</td>\n",
       "      <td>...</td>\n",
       "      <td>0.0</td>\n",
       "      <td>0.0</td>\n",
       "      <td>0.0</td>\n",
       "      <td>0.0</td>\n",
       "      <td>0.0</td>\n",
       "      <td>0.0</td>\n",
       "      <td>0.0</td>\n",
       "      <td>0.0</td>\n",
       "      <td>0.0</td>\n",
       "      <td>0.0</td>\n",
       "    </tr>\n",
       "    <tr>\n",
       "      <th>3</th>\n",
       "      <td>0.900121</td>\n",
       "      <td>0.0</td>\n",
       "      <td>0.0</td>\n",
       "      <td>0.0</td>\n",
       "      <td>0.0</td>\n",
       "      <td>0.0</td>\n",
       "      <td>0.0</td>\n",
       "      <td>0.000000</td>\n",
       "      <td>0.0</td>\n",
       "      <td>0.000000</td>\n",
       "      <td>...</td>\n",
       "      <td>0.0</td>\n",
       "      <td>0.0</td>\n",
       "      <td>0.0</td>\n",
       "      <td>0.0</td>\n",
       "      <td>0.0</td>\n",
       "      <td>0.0</td>\n",
       "      <td>0.0</td>\n",
       "      <td>0.0</td>\n",
       "      <td>0.0</td>\n",
       "      <td>0.0</td>\n",
       "    </tr>\n",
       "    <tr>\n",
       "      <th>4</th>\n",
       "      <td>0.867659</td>\n",
       "      <td>0.0</td>\n",
       "      <td>0.0</td>\n",
       "      <td>0.0</td>\n",
       "      <td>0.0</td>\n",
       "      <td>0.0</td>\n",
       "      <td>0.0</td>\n",
       "      <td>0.000000</td>\n",
       "      <td>0.0</td>\n",
       "      <td>0.000000</td>\n",
       "      <td>...</td>\n",
       "      <td>0.0</td>\n",
       "      <td>0.0</td>\n",
       "      <td>0.0</td>\n",
       "      <td>0.0</td>\n",
       "      <td>0.0</td>\n",
       "      <td>0.0</td>\n",
       "      <td>0.0</td>\n",
       "      <td>0.0</td>\n",
       "      <td>0.0</td>\n",
       "      <td>0.0</td>\n",
       "    </tr>\n",
       "    <tr>\n",
       "      <th>...</th>\n",
       "      <td>...</td>\n",
       "      <td>...</td>\n",
       "      <td>...</td>\n",
       "      <td>...</td>\n",
       "      <td>...</td>\n",
       "      <td>...</td>\n",
       "      <td>...</td>\n",
       "      <td>...</td>\n",
       "      <td>...</td>\n",
       "      <td>...</td>\n",
       "      <td>...</td>\n",
       "      <td>...</td>\n",
       "      <td>...</td>\n",
       "      <td>...</td>\n",
       "      <td>...</td>\n",
       "      <td>...</td>\n",
       "      <td>...</td>\n",
       "      <td>...</td>\n",
       "      <td>...</td>\n",
       "      <td>...</td>\n",
       "      <td>...</td>\n",
       "    </tr>\n",
       "    <tr>\n",
       "      <th>1321</th>\n",
       "      <td>0.708266</td>\n",
       "      <td>0.0</td>\n",
       "      <td>0.0</td>\n",
       "      <td>0.0</td>\n",
       "      <td>0.0</td>\n",
       "      <td>0.0</td>\n",
       "      <td>0.0</td>\n",
       "      <td>0.000000</td>\n",
       "      <td>0.0</td>\n",
       "      <td>0.000000</td>\n",
       "      <td>...</td>\n",
       "      <td>0.0</td>\n",
       "      <td>0.0</td>\n",
       "      <td>0.0</td>\n",
       "      <td>0.0</td>\n",
       "      <td>0.0</td>\n",
       "      <td>0.0</td>\n",
       "      <td>0.0</td>\n",
       "      <td>0.0</td>\n",
       "      <td>0.0</td>\n",
       "      <td>0.0</td>\n",
       "    </tr>\n",
       "    <tr>\n",
       "      <th>1322</th>\n",
       "      <td>0.808964</td>\n",
       "      <td>0.0</td>\n",
       "      <td>0.0</td>\n",
       "      <td>0.0</td>\n",
       "      <td>0.0</td>\n",
       "      <td>0.0</td>\n",
       "      <td>0.0</td>\n",
       "      <td>0.000000</td>\n",
       "      <td>0.0</td>\n",
       "      <td>0.000000</td>\n",
       "      <td>...</td>\n",
       "      <td>0.0</td>\n",
       "      <td>0.0</td>\n",
       "      <td>0.0</td>\n",
       "      <td>0.0</td>\n",
       "      <td>0.0</td>\n",
       "      <td>0.0</td>\n",
       "      <td>0.0</td>\n",
       "      <td>0.0</td>\n",
       "      <td>0.0</td>\n",
       "      <td>0.0</td>\n",
       "    </tr>\n",
       "    <tr>\n",
       "      <th>1323</th>\n",
       "      <td>0.750640</td>\n",
       "      <td>0.0</td>\n",
       "      <td>0.0</td>\n",
       "      <td>0.0</td>\n",
       "      <td>0.0</td>\n",
       "      <td>0.0</td>\n",
       "      <td>0.0</td>\n",
       "      <td>0.000000</td>\n",
       "      <td>0.0</td>\n",
       "      <td>0.000000</td>\n",
       "      <td>...</td>\n",
       "      <td>0.0</td>\n",
       "      <td>0.0</td>\n",
       "      <td>0.0</td>\n",
       "      <td>0.0</td>\n",
       "      <td>0.0</td>\n",
       "      <td>0.0</td>\n",
       "      <td>0.0</td>\n",
       "      <td>0.0</td>\n",
       "      <td>0.0</td>\n",
       "      <td>0.0</td>\n",
       "    </tr>\n",
       "    <tr>\n",
       "      <th>1324</th>\n",
       "      <td>0.899190</td>\n",
       "      <td>0.0</td>\n",
       "      <td>0.0</td>\n",
       "      <td>0.0</td>\n",
       "      <td>0.0</td>\n",
       "      <td>0.0</td>\n",
       "      <td>0.0</td>\n",
       "      <td>0.000000</td>\n",
       "      <td>0.0</td>\n",
       "      <td>0.018125</td>\n",
       "      <td>...</td>\n",
       "      <td>0.0</td>\n",
       "      <td>0.0</td>\n",
       "      <td>0.0</td>\n",
       "      <td>0.0</td>\n",
       "      <td>0.0</td>\n",
       "      <td>0.0</td>\n",
       "      <td>0.0</td>\n",
       "      <td>0.0</td>\n",
       "      <td>0.0</td>\n",
       "      <td>0.0</td>\n",
       "    </tr>\n",
       "    <tr>\n",
       "      <th>1325</th>\n",
       "      <td>0.565416</td>\n",
       "      <td>0.0</td>\n",
       "      <td>0.0</td>\n",
       "      <td>0.0</td>\n",
       "      <td>0.0</td>\n",
       "      <td>0.0</td>\n",
       "      <td>0.0</td>\n",
       "      <td>0.000000</td>\n",
       "      <td>0.0</td>\n",
       "      <td>0.000000</td>\n",
       "      <td>...</td>\n",
       "      <td>0.0</td>\n",
       "      <td>0.0</td>\n",
       "      <td>0.0</td>\n",
       "      <td>0.0</td>\n",
       "      <td>0.0</td>\n",
       "      <td>0.0</td>\n",
       "      <td>0.0</td>\n",
       "      <td>0.0</td>\n",
       "      <td>0.0</td>\n",
       "      <td>0.0</td>\n",
       "    </tr>\n",
       "  </tbody>\n",
       "</table>\n",
       "<p>1326 rows × 19821 columns</p>\n",
       "</div>"
      ],
      "text/plain": [
       "                 ##   #%   -&  -&_  --&  ---      ----  ----++     -----  ...  \\\n",
       "0     0.837315  0.0  0.0  0.0  0.0  0.0  0.0  0.000000     0.0  0.000000  ...   \n",
       "1     0.849669  0.0  0.0  0.0  0.0  0.0  0.0  0.057318     0.0  0.000000  ...   \n",
       "2     0.718991  0.0  0.0  0.0  0.0  0.0  0.0  0.000000     0.0  0.000000  ...   \n",
       "3     0.900121  0.0  0.0  0.0  0.0  0.0  0.0  0.000000     0.0  0.000000  ...   \n",
       "4     0.867659  0.0  0.0  0.0  0.0  0.0  0.0  0.000000     0.0  0.000000  ...   \n",
       "...        ...  ...  ...  ...  ...  ...  ...       ...     ...       ...  ...   \n",
       "1321  0.708266  0.0  0.0  0.0  0.0  0.0  0.0  0.000000     0.0  0.000000  ...   \n",
       "1322  0.808964  0.0  0.0  0.0  0.0  0.0  0.0  0.000000     0.0  0.000000  ...   \n",
       "1323  0.750640  0.0  0.0  0.0  0.0  0.0  0.0  0.000000     0.0  0.000000  ...   \n",
       "1324  0.899190  0.0  0.0  0.0  0.0  0.0  0.0  0.000000     0.0  0.018125  ...   \n",
       "1325  0.565416  0.0  0.0  0.0  0.0  0.0  0.0  0.000000     0.0  0.000000  ...   \n",
       "\n",
       "        ｂ    ｃ    ｅ    ｉ    ｌ    ｎ    ｐ    ｒ    ｓ    ｕ  \n",
       "0     0.0  0.0  0.0  0.0  0.0  0.0  0.0  0.0  0.0  0.0  \n",
       "1     0.0  0.0  0.0  0.0  0.0  0.0  0.0  0.0  0.0  0.0  \n",
       "2     0.0  0.0  0.0  0.0  0.0  0.0  0.0  0.0  0.0  0.0  \n",
       "3     0.0  0.0  0.0  0.0  0.0  0.0  0.0  0.0  0.0  0.0  \n",
       "4     0.0  0.0  0.0  0.0  0.0  0.0  0.0  0.0  0.0  0.0  \n",
       "...   ...  ...  ...  ...  ...  ...  ...  ...  ...  ...  \n",
       "1321  0.0  0.0  0.0  0.0  0.0  0.0  0.0  0.0  0.0  0.0  \n",
       "1322  0.0  0.0  0.0  0.0  0.0  0.0  0.0  0.0  0.0  0.0  \n",
       "1323  0.0  0.0  0.0  0.0  0.0  0.0  0.0  0.0  0.0  0.0  \n",
       "1324  0.0  0.0  0.0  0.0  0.0  0.0  0.0  0.0  0.0  0.0  \n",
       "1325  0.0  0.0  0.0  0.0  0.0  0.0  0.0  0.0  0.0  0.0  \n",
       "\n",
       "[1326 rows x 19821 columns]"
      ]
     },
     "execution_count": 30,
     "metadata": {},
     "output_type": "execute_result"
    }
   ],
   "source": [
    "tfidf_feature = feature_extract(df_new['jieba_clean_result'], TfidfVectorizer(tokenizer = segment))\n",
    "tfidf_feature"
   ]
  },
  {
   "cell_type": "markdown",
   "id": "033f3d03-b6a9-4ca6-b394-a3ab3378099d",
   "metadata": {},
   "source": [
    "## ⚙️ 訓練模型\n",
    "我們使用五種分類模型：\n",
    "- 決策樹 Decision Tree\n",
    "- 隨機森林 Random Forest\n",
    "- 羅吉斯迴歸 Logistic Regression\n",
    "- 支援向量機 Support Vector Machine\n",
    "- 多項式型樸素貝葉斯 Multinomial Naive Bayes"
   ]
  },
  {
   "cell_type": "code",
   "execution_count": 31,
   "id": "17861c78-0f13-46fc-9fb0-c9634c65e738",
   "metadata": {},
   "outputs": [],
   "source": [
    "DT = DecisionTreeClassifier(criterion = 'entropy', max_depth = 5 , random_state = 123)\n",
    "RF = RandomForestClassifier(n_estimators = 120 , criterion = 'gini', max_depth = 10 , random_state = 123)\n",
    "LR = LogisticRegression(random_state = 1223)\n",
    "SVM = SVC(C=1, gamma='auto', kernel='linear', random_state = 123)\n",
    "NB = MultinomialNB()"
   ]
  },
  {
   "cell_type": "markdown",
   "id": "1bf42075-083a-4951-805f-b60d6ec6de60",
   "metadata": {},
   "source": [
    "## ⚙️ Decision Tree"
   ]
  },
  {
   "cell_type": "code",
   "execution_count": 32,
   "id": "e6450a29-9318-4aca-8c85-bf4b0827a678",
   "metadata": {},
   "outputs": [
    {
     "name": "stdout",
     "output_type": "stream",
     "text": [
      "predicted result: [0 0 2 0 0 0 2 0 2 0 0 0 2 0 2 0 5 2 6 2 0 0 0 0 0 2 2 0 2 3 0 2 3 2 0 2 0\n",
      " 0 0 0 0 0 0 3 0 0 0 0 3 5 0 0 0 0 0 0 0 2 0 2 0 3 2 2 0 2 0 0 0 2 0 2 2 0\n",
      " 0 2 0 0 2 0 0 2 1 0 2 0 0 0 2 2 0 3 0 0 2 2 0 0 3 0 3 2 2 2 0 0 0 0 0 0 2\n",
      " 2 0 0 0 0 3 0 2 2 0 0 0 2 0 0 0 0 0 0 0 0 0 0 0 0 2 2 0 0 0 0 3 0 3 0 2 0\n",
      " 0 0 0 0 2 6 2 3 0 2 2 0 2 0 0 3 2 0 0 0 0 0 0 0 0 0 0 0 2 2 0 0 0 0 0 0 2\n",
      " 2 0 0 0 2 0 2 3 2 0 0 0 0 0 3 0 0 0 0 0 0 0 0 2 0 0 3 0 0 0 3 3 2 0 2 2 3\n",
      " 0 0 0 0 1 0 2 3 0 0 3 5 0 0 3 0 2 0 0 0 2 6 3 0 3 0 0 2 0 0 5 3 0 2 2 0 0\n",
      " 0 0 0 0 0 2 0]\n",
      "<sklearn.metrics._plot.confusion_matrix.ConfusionMatrixDisplay object at 0x1146cbd40>\n",
      "accuracy: 0.48\n",
      "precision: 0.4\n",
      "recall: 0.28\n",
      "fscore: 0.3\n"
     ]
    },
    {
     "data": {
      "image/png": "[encoded data removed]",
      "text/plain": [
       "<Figure size 640x480 with 2 Axes>"
      ]
     },
     "metadata": {},
     "output_type": "display_data"
    }
   ],
   "source": [
    "DT_model_bow = Model(tfidf_feature,df['label'], DT)  \n",
    "DT_model_bow.split_data()  \n",
    "DT_model_bow.model_train()  \n",
    "DT_model_bow.model_predict()  \n",
    "DT_model_bow.model_evaluate()"
   ]
  },
  {
   "cell_type": "markdown",
   "id": "206b1eb9-fa7c-4a99-8bb1-1d5ecc0922de",
   "metadata": {},
   "source": [
    "## ⚙️ Random Forest"
   ]
  },
  {
   "cell_type": "code",
   "execution_count": 33,
   "id": "408010ad-7882-4932-bb02-5b2d03c12863",
   "metadata": {},
   "outputs": [
    {
     "name": "stdout",
     "output_type": "stream",
     "text": [
      "predicted result: [2 0 0 0 0 0 0 2 0 0 2 0 0 0 2 0 0 2 0 2 0 0 0 0 2 2 2 0 0 0 0 2 0 2 0 0 0\n",
      " 0 0 0 0 0 0 0 0 0 0 0 0 0 0 0 0 0 0 0 0 2 0 0 0 2 0 2 0 0 0 0 0 0 0 2 2 0\n",
      " 0 0 0 0 0 0 0 0 2 0 0 2 0 0 0 2 0 0 0 0 2 0 0 2 0 0 0 2 2 0 0 0 0 0 0 0 2\n",
      " 2 0 0 0 0 0 2 0 0 0 0 0 2 0 0 0 0 0 0 0 0 0 0 0 0 2 0 0 0 0 2 0 0 0 2 0 0\n",
      " 0 0 0 0 0 0 2 0 0 2 0 0 0 0 2 0 0 0 0 0 0 0 0 0 0 0 0 0 0 0 0 0 0 0 0 0 0\n",
      " 0 0 0 0 0 0 0 0 0 0 0 0 0 0 0 0 0 0 0 0 0 0 0 0 0 0 2 0 0 0 0 0 0 0 2 2 0\n",
      " 2 0 0 0 2 0 2 2 0 0 0 2 0 0 0 2 0 0 0 0 0 0 0 2 0 0 0 2 0 0 2 0 0 0 2 0 0\n",
      " 0 0 0 0 0 2 0]\n",
      "<sklearn.metrics._plot.confusion_matrix.ConfusionMatrixDisplay object at 0x14171ae40>\n",
      "accuracy: 0.46\n",
      "precision: 0.16\n",
      "recall: 0.19\n",
      "fscore: 0.16\n"
     ]
    },
    {
     "name": "stderr",
     "output_type": "stream",
     "text": [
      "/Library/Frameworks/Python.framework/Versions/3.13/lib/python3.13/site-packages/sklearn/metrics/_classification.py:1565: UndefinedMetricWarning: Precision is ill-defined and being set to 0.0 in labels with no predicted samples. Use `zero_division` parameter to control this behavior.\n",
      "  _warn_prf(average, modifier, f\"{metric.capitalize()} is\", len(result))\n"
     ]
    },
    {
     "data": {
      "image/png": "[encoded data removed]",
      "text/plain": [
       "<Figure size 640x480 with 2 Axes>"
      ]
     },
     "metadata": {},
     "output_type": "display_data"
    }
   ],
   "source": [
    "RF_model_bow = Model(tfidf_feature,df['label'], RF)  \n",
    "RF_model_bow.split_data()  \n",
    "RF_model_bow.model_train()  \n",
    "RF_model_bow.model_predict()  \n",
    "RF_model_bow.model_evaluate()"
   ]
  },
  {
   "cell_type": "markdown",
   "id": "3ed85e71-b9f9-43aa-bb81-c8105547d96b",
   "metadata": {},
   "source": [
    "## ⚙️ Logistic Regression"
   ]
  },
  {
   "cell_type": "code",
   "execution_count": 34,
   "id": "29ac7dbf-2636-421e-9d9e-114a15a32625",
   "metadata": {},
   "outputs": [
    {
     "name": "stdout",
     "output_type": "stream",
     "text": [
      "predicted result: [0 0 2 0 0 0 0 2 2 0 2 0 2 0 2 0 0 2 0 2 0 0 0 0 2 0 2 0 0 0 0 2 0 2 0 2 0\n",
      " 0 0 0 2 0 0 0 2 0 0 0 2 2 0 0 0 0 0 0 0 2 2 0 0 0 2 2 2 0 2 0 0 2 0 2 2 2\n",
      " 0 0 0 0 0 2 0 2 0 0 0 2 0 0 2 2 0 0 0 0 2 2 0 0 0 0 0 2 2 0 0 0 0 0 0 0 2\n",
      " 2 0 0 0 0 0 2 0 0 0 0 0 2 0 0 0 0 2 0 0 0 0 0 0 0 2 2 0 0 0 2 0 0 0 0 0 0\n",
      " 0 0 2 0 2 0 2 0 0 2 2 0 2 0 0 0 2 0 0 0 2 0 0 0 0 0 0 0 2 2 0 0 0 0 0 0 2\n",
      " 0 0 2 2 0 0 2 2 0 0 2 2 0 0 0 0 0 0 2 2 0 0 0 0 0 2 2 0 0 0 0 0 0 2 2 2 0\n",
      " 2 0 0 2 0 0 2 2 0 0 0 2 0 0 0 0 0 0 0 0 2 0 0 2 0 0 0 2 0 0 2 2 0 2 0 0 0\n",
      " 0 0 2 0 0 2 0]\n",
      "<sklearn.metrics._plot.confusion_matrix.ConfusionMatrixDisplay object at 0x1307b0f30>\n",
      "accuracy: 0.5\n",
      "precision: 0.17\n",
      "recall: 0.21\n",
      "fscore: 0.18\n"
     ]
    },
    {
     "name": "stderr",
     "output_type": "stream",
     "text": [
      "/Library/Frameworks/Python.framework/Versions/3.13/lib/python3.13/site-packages/sklearn/metrics/_classification.py:1565: UndefinedMetricWarning: Precision is ill-defined and being set to 0.0 in labels with no predicted samples. Use `zero_division` parameter to control this behavior.\n",
      "  _warn_prf(average, modifier, f\"{metric.capitalize()} is\", len(result))\n"
     ]
    },
    {
     "data": {
      "image/png": "[encoded data removed]",
      "text/plain": [
       "<Figure size 640x480 with 2 Axes>"
      ]
     },
     "metadata": {},
     "output_type": "display_data"
    }
   ],
   "source": [
    "LR_model_bow = Model(tfidf_feature,df['label'], LR)  \n",
    "LR_model_bow.split_data()  \n",
    "LR_model_bow.model_train()  \n",
    "LR_model_bow.model_predict()  \n",
    "LR_model_bow.model_evaluate()"
   ]
  },
  {
   "cell_type": "markdown",
   "id": "71df79b2-b079-4ce4-8c29-98254337295d",
   "metadata": {},
   "source": [
    "## ⚙️ Support Vector Machine"
   ]
  },
  {
   "cell_type": "code",
   "execution_count": 35,
   "id": "d1f260eb-f440-4b0a-a799-a1c808a0bf62",
   "metadata": {
    "scrolled": true
   },
   "outputs": [
    {
     "name": "stdout",
     "output_type": "stream",
     "text": [
      "predicted result: [0 0 2 0 0 0 0 2 2 0 0 0 2 0 2 0 0 2 0 2 0 0 0 0 2 0 2 0 0 0 0 2 0 2 0 2 0\n",
      " 0 0 0 2 0 0 0 0 0 0 0 2 2 0 0 0 0 0 0 0 2 0 0 0 0 0 2 0 0 0 0 0 2 0 2 2 2\n",
      " 0 0 0 0 0 0 0 2 0 0 0 2 0 0 2 2 0 0 0 0 2 2 0 0 0 0 0 2 2 0 0 0 0 0 0 0 2\n",
      " 2 0 0 0 0 0 2 2 0 0 0 0 2 0 0 0 0 2 0 0 0 0 0 0 0 2 2 0 0 0 2 0 0 0 0 0 0\n",
      " 0 0 2 0 2 0 2 0 0 0 2 0 2 0 0 0 2 0 0 0 0 0 0 0 0 0 0 0 2 2 0 0 0 0 0 0 2\n",
      " 0 0 0 0 0 0 0 0 0 0 2 0 0 0 0 0 0 0 2 0 0 0 0 0 0 2 2 0 0 0 0 0 0 2 2 2 0\n",
      " 2 0 0 0 0 0 0 2 0 0 0 2 0 0 0 0 0 0 0 0 0 0 0 2 0 0 0 2 0 0 2 2 0 2 0 0 0\n",
      " 0 0 0 0 0 2 0]\n",
      "<sklearn.metrics._plot.confusion_matrix.ConfusionMatrixDisplay object at 0x14430e0b0>\n",
      "accuracy: 0.52\n",
      "precision: 0.18\n",
      "recall: 0.22\n",
      "fscore: 0.19\n"
     ]
    },
    {
     "name": "stderr",
     "output_type": "stream",
     "text": [
      "/Library/Frameworks/Python.framework/Versions/3.13/lib/python3.13/site-packages/sklearn/metrics/_classification.py:1565: UndefinedMetricWarning: Precision is ill-defined and being set to 0.0 in labels with no predicted samples. Use `zero_division` parameter to control this behavior.\n",
      "  _warn_prf(average, modifier, f\"{metric.capitalize()} is\", len(result))\n"
     ]
    },
    {
     "data": {
      "image/png": "[encoded data removed]",
      "text/plain": [
       "<Figure size 640x480 with 2 Axes>"
      ]
     },
     "metadata": {},
     "output_type": "display_data"
    }
   ],
   "source": [
    "SVM_model_bow = Model(tfidf_feature,df['label'], SVM)  \n",
    "SVM_model_bow.split_data()  \n",
    "SVM_model_bow.model_train()  \n",
    "SVM_model_bow.model_predict()  \n",
    "SVM_model_bow.model_evaluate()"
   ]
  },
  {
   "cell_type": "markdown",
   "id": "e2cdcbd2-93af-4616-b36d-26b5981eadc3",
   "metadata": {},
   "source": [
    "## ⚙️ Multinomial Naive Bayes"
   ]
  },
  {
   "cell_type": "code",
   "execution_count": 36,
   "id": "10be360e-4638-4b8b-89be-782e45893334",
   "metadata": {},
   "outputs": [
    {
     "name": "stdout",
     "output_type": "stream",
     "text": [
      "predicted result: [0 0 0 0 0 0 0 0 2 0 2 0 0 0 2 0 0 2 0 0 0 0 0 0 2 0 0 0 0 0 0 0 0 2 0 0 0\n",
      " 0 0 0 2 0 0 0 0 0 0 0 2 0 0 0 0 0 0 0 2 2 0 0 0 2 0 2 0 0 0 0 0 2 0 2 2 0\n",
      " 0 0 0 0 0 2 0 0 0 0 0 0 0 0 0 0 0 0 0 0 0 0 0 0 0 0 0 0 2 0 0 0 0 0 0 0 0\n",
      " 0 0 0 0 0 0 0 2 0 0 0 0 2 0 0 0 0 0 0 0 0 2 0 0 0 0 0 0 0 0 0 0 0 0 0 0 0\n",
      " 0 0 2 0 2 0 0 0 0 0 0 0 0 0 0 0 2 0 0 0 0 0 0 0 0 0 0 0 0 0 0 0 0 2 2 0 2\n",
      " 0 0 0 0 0 0 0 0 0 0 2 0 0 0 0 0 0 0 0 0 0 0 0 0 0 0 2 0 2 0 0 0 0 0 0 0 0\n",
      " 0 0 0 2 0 0 0 2 0 0 0 2 0 0 0 0 0 0 0 0 0 0 0 2 0 0 0 2 0 0 0 0 0 0 0 0 0\n",
      " 0 0 0 0 0 0 0]\n",
      "<sklearn.metrics._plot.confusion_matrix.ConfusionMatrixDisplay object at 0x1416097e0>\n",
      "accuracy: 0.49\n",
      "precision: 0.19\n",
      "recall: 0.2\n",
      "fscore: 0.17\n"
     ]
    },
    {
     "name": "stderr",
     "output_type": "stream",
     "text": [
      "/Library/Frameworks/Python.framework/Versions/3.13/lib/python3.13/site-packages/sklearn/metrics/_classification.py:1565: UndefinedMetricWarning: Precision is ill-defined and being set to 0.0 in labels with no predicted samples. Use `zero_division` parameter to control this behavior.\n",
      "  _warn_prf(average, modifier, f\"{metric.capitalize()} is\", len(result))\n"
     ]
    },
    {
     "data": {
      "image/png": "[encoded data removed]",
      "text/plain": [
       "<Figure size 640x480 with 2 Axes>"
      ]
     },
     "metadata": {},
     "output_type": "display_data"
    }
   ],
   "source": [
    "NB_model_bow = Model(tfidf_feature,df['label'], NB)  \n",
    "NB_model_bow.split_data()  \n",
    "NB_model_bow.model_train()  \n",
    "NB_model_bow.model_predict()  \n",
    "NB_model_bow.model_evaluate()"
   ]
  }
 ],
 "metadata": {
  "kernelspec": {
   "display_name": "Python 3 (ipykernel)",
   "language": "python",
   "name": "python3"
  },
  "language_info": {
   "codemirror_mode": {
    "name": "ipython",
    "version": 3
   },
   "file_extension": ".py",
   "mimetype": "text/x-python",
   "name": "python",
   "nbconvert_exporter": "python",
   "pygments_lexer": "ipython3",
   "version": "3.13.0"
  }
 },
 "nbformat": 4,
 "nbformat_minor": 5
}
