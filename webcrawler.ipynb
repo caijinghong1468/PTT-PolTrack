{
 "cells": [
  {
   "cell_type": "markdown",
   "id": "d25fb325-0493-462e-a70c-5de4b2c4096d",
   "metadata": {},
   "source": [
    "### 📦載入套件"
   ]
  },
  {
   "cell_type": "code",
   "execution_count": 4,
   "id": "10363824-4c7b-4b4c-9fc8-175d1814c775",
   "metadata": {},
   "outputs": [],
   "source": [
    "from bs4 import BeautifulSoup as bs\n",
    "import requests\n",
    "import re\n",
    "import pandas as pd"
   ]
  },
  {
   "cell_type": "markdown",
   "id": "0f17cd44-beb1-448a-a6b9-87a20fc2ff31",
   "metadata": {},
   "source": [
    "### 📃抓取 PTT「HatePolitics」板單個頁面文章資訊的函式\n",
    "#####  步驟分別是：\n",
    "- 一個頁面會有好幾篇文章，需要點擊文章網址後，才能抓取文章內容\n",
    "- 點擊網址後，簡單驗證文章以及抓取文章內文\n",
    "- 最後以清單形式返回所有文章的資訊"
   ]
  },
  {
   "cell_type": "code",
   "execution_count": 5,
   "id": "1853bad9-e50c-4775-8cd8-405d1d87ef5a",
   "metadata": {},
   "outputs": [],
   "source": [
    "#   建立函式\n",
    "def get_ptt_post(soup):\n",
    "\n",
    "    #   取得文章列表\n",
    "    #   目標 div\n",
    "    data = soup.select(\"div.r-ent\")\n",
    "    result = []\n",
    "    for i in data:\n",
    "\n",
    "        #   網址\n",
    "        #   PTT 網站\n",
    "        # 檢查選擇器是否找到任何元素\n",
    "        title_a_elements = i.select(\"div.title a\")\n",
    "        if title_a_elements:  # 如果列表不為空\n",
    "            oriLink = \"https://www.ptt.cc\" + title_a_elements[0][\"href\"]\n",
    "        else:\n",
    "            # 處理找不到元素的情況，例如跳過此文章\n",
    "            print(\"跳過此文章：找不到 'div.title a' 元素\")\n",
    "            continue  # 移至下一篇文章\n",
    "        #   取得文章相關資訊\n",
    "        #   內文\n",
    "        #   請求文章內文\n",
    "        res_content = requests.get(oriLink)\n",
    "        soup_content = bs(res_content.text,\"lxml\")\n",
    "        #   文章內容簡易驗證\n",
    "        results_content = soup_content.select('span.article-meta-value')\n",
    "        if len(results_content) > 3:\n",
    "            #   驗證成功, 篩出文章內文\n",
    "            content = soup_content.find(id=\"main-content\").text\n",
    "            Footer = u'※ 發信站: 批踢踢實業坊(ptt.cc),'\n",
    "            #   移除註腳以下內容\n",
    "            content = content.split(Footer)\n",
    "            #   存取內容\n",
    "            main_content = content[0]\n",
    "            pass\n",
    "        else:\n",
    "            #   驗證失敗, 跳過該文章\n",
    "            print(oriLink,\"內文異常:ID/版標/標題/日期為空\")\n",
    "            print(results_content)\n",
    "            continue\n",
    "\n",
    "        result.append({\n",
    "            \"內文\":main_content\n",
    "        })\n",
    "    return result"
   ]
  },
  {
   "cell_type": "markdown",
   "id": "df17f5df-dad7-4027-93a7-3eda0ff0fc0d",
   "metadata": {},
   "source": [
    "### 📃抓取 PTT「HatePolitics」板的多頁文章資訊\n",
    "#####  工作流程：\n",
    "- 前處理、解析網址\n",
    "- 自動抓取首頁前 N 頁的文章（N為手動輸入的頁數）\n",
    "- 將多頁文章整合成一個表格（DataFrame）"
   ]
  },
  {
   "cell_type": "code",
   "execution_count": 6,
   "id": "9e0a96c2-4377-4682-8889-82711ed42e2f",
   "metadata": {
    "scrolled": true
   },
   "outputs": [
    {
     "name": "stdout",
     "output_type": "stream",
     "text": [
      "https://www.ptt.cc/bbs/HatePolitics/index4121.html is ok\n",
      "https://www.ptt.cc/bbs/HatePolitics/index4120.html is ok\n",
      "https://www.ptt.cc/bbs/HatePolitics/index4119.html is ok\n",
      "跳過此文章：找不到 'div.title a' 元素\n",
      "https://www.ptt.cc/bbs/HatePolitics/index4118.html is ok\n",
      "https://www.ptt.cc/bbs/HatePolitics/index4117.html is ok\n",
      "https://www.ptt.cc/bbs/HatePolitics/index4116.html is ok\n",
      "https://www.ptt.cc/bbs/HatePolitics/index4115.html is ok\n",
      "跳過此文章：找不到 'div.title a' 元素\n",
      "https://www.ptt.cc/bbs/HatePolitics/index4114.html is ok\n",
      "https://www.ptt.cc/bbs/HatePolitics/index4113.html is ok\n",
      "https://www.ptt.cc/bbs/HatePolitics/index4112.html is ok\n",
      "跳過此文章：找不到 'div.title a' 元素\n",
      "https://www.ptt.cc/bbs/HatePolitics/index4111.html is ok\n",
      "https://www.ptt.cc/bbs/HatePolitics/index4110.html is ok\n",
      "https://www.ptt.cc/bbs/HatePolitics/index4109.html is ok\n",
      "https://www.ptt.cc/bbs/HatePolitics/index4108.html is ok\n",
      "https://www.ptt.cc/bbs/HatePolitics/index4107.html is ok\n",
      "https://www.ptt.cc/bbs/HatePolitics/index4106.html is ok\n",
      "https://www.ptt.cc/bbs/HatePolitics/index4105.html is ok\n",
      "https://www.ptt.cc/bbs/HatePolitics/index4104.html is ok\n",
      "https://www.ptt.cc/bbs/HatePolitics/index4103.html is ok\n",
      "https://www.ptt.cc/bbs/HatePolitics/index4102.html is ok\n",
      "https://www.ptt.cc/bbs/HatePolitics/index4101.html is ok\n",
      "https://www.ptt.cc/bbs/HatePolitics/index4100.html is ok\n",
      "https://www.ptt.cc/bbs/HatePolitics/index4099.html is ok\n",
      "https://www.ptt.cc/bbs/HatePolitics/index4098.html is ok\n",
      "https://www.ptt.cc/bbs/HatePolitics/index4097.html is ok\n",
      "https://www.ptt.cc/bbs/HatePolitics/index4096.html is ok\n",
      "跳過此文章：找不到 'div.title a' 元素\n",
      "https://www.ptt.cc/bbs/HatePolitics/index4095.html is ok\n",
      "https://www.ptt.cc/bbs/HatePolitics/index4094.html is ok\n",
      "跳過此文章：找不到 'div.title a' 元素\n",
      "跳過此文章：找不到 'div.title a' 元素\n",
      "https://www.ptt.cc/bbs/HatePolitics/index4093.html is ok\n"
     ]
    }
   ],
   "source": [
    "#   前綴與首頁網址\n",
    "prefix = \"https://www.ptt.cc\"\n",
    "url = \"https://www.ptt.cc/bbs/HatePolitics/index.html\"\n",
    "\n",
    "#   請求與解析\n",
    "res = requests.get(url)\n",
    "soup = bs(res.text,\"lxml\")\n",
    "\n",
    "\n",
    "#   建立資料集並匯出\n",
    "#   首次呼叫 Def\n",
    "output = []\n",
    "result = get_ptt_post(soup)\n",
    "\n",
    "#   將結果函式返回的內容存入output陣列\n",
    "output += result\n",
    "\n",
    "#   再次呼叫數(N)頁 - 前頁網址\n",
    "N = 30\n",
    "previous_page = soup.select(\"div#action-bar-container div.action-bar div.btn-group-paging a\")[1][\"href\"]\n",
    "# Extract the page number using split and indexing\n",
    "page_number = int(previous_page.split('/')[-1].split('.')[0].replace('index',''))\n",
    "\n",
    "for i in range(1,N):\n",
    "    url = \"https://www.ptt.cc/bbs/HatePolitics/index{}.html\".format(page_number-i)\n",
    "    res = requests.get(url)\n",
    "    soup = bs(res.text,\"lxml\")\n",
    "\n",
    "    result = get_ptt_post(soup)\n",
    "    output += result\n",
    "    print(\"{} is ok\".format(url))\n",
    "\n",
    "#   產出資料集\n",
    "df = pd.DataFrame(output)"
   ]
  },
  {
   "cell_type": "markdown",
   "id": "b6f4f4e3-be1c-4302-abfe-69e11eb18c1f",
   "metadata": {},
   "source": [
    " ### 🧻清理並格式化文章內文\n",
    " #####  使用正則表達處理內文的內容：\n",
    " - 先確認內文欄位存在\n",
    " - 一共使用三種方式整理內文：\n",
    "   1. 不屬於內文的文字都刪除\n",
    "   2. 內文只保留中文字以及數字\n",
    "   3. 把文章是新聞的都刪除\n",
    " - 將結果存在\"clean_processed_ptt_tech_job_post.csv\""
   ]
  },
  {
   "cell_type": "code",
   "execution_count": 7,
   "id": "3b32d835-b6ea-4f9e-a2d7-4b63a7996bf1",
   "metadata": {},
   "outputs": [],
   "source": [
    "\n",
    "if '內文' in df.columns:\n",
    "    def process_text(text):\n",
    "        # 檢查是否為string\n",
    "        if isinstance(text, str):\n",
    "            #用正則表達處理內文\n",
    "            pattern = r'標題(.*?)時間.*?\\n(.*)'\n",
    "            match = re.search(pattern, text, re.DOTALL)\n",
    "            if match:\n",
    "                title = match.group(1).strip()\n",
    "                content = match.group(2).strip()\n",
    "                return f'{title}\\n{content}'\n",
    "        return text  # 如果不匹配，返回原文本或者非字符串類型\n",
    "\n",
    "    # 用re處理每行\n",
    "    df['內文'] = df['內文'].apply(process_text)\n"
   ]
  },
  {
   "cell_type": "code",
   "execution_count": 8,
   "id": "254a87c0-554a-410d-8e72-1fb406d97f6c",
   "metadata": {},
   "outputs": [],
   "source": [
    "clean_text = []\n",
    "for text in df['內文']:\n",
    "  if isinstance(text, str):\n",
    "    clean = re.sub(r'(\\n|\\t|\\r|[a-z]|[A-Z]|http\\S+)', r'', text)\n",
    "    clean_text.append(clean)\n",
    "  else:\n",
    "    clean_text.append('')  \n",
    "\n",
    "# 清理完的text存成新的一欄 data\n",
    "df['內文'] = clean_text"
   ]
  },
  {
   "cell_type": "code",
   "execution_count": 9,
   "id": "610a36f3-e008-4590-b734-d4c723e16694",
   "metadata": {},
   "outputs": [
    {
     "name": "stdout",
     "output_type": "stream",
     "text": [
      "已清除內文所有雜物，結果儲存至 ./src/clean_processed_ptt_tech_job_post.csv\n"
     ]
    }
   ],
   "source": [
    "output_file = './src/clean_processed_ptt_tech_job_post.csv'\n",
    "# 檢查 '內文' 欄位是否存在\n",
    "if '內文' in df.columns:\n",
    "    # 篩選資料，移除含有 \"[新聞]\" 的列\n",
    "    filtered_df = df[~df['內文'].str.contains(r'\\[新聞\\]', na=False)]\n",
    "    # 儲存到新的CSV檔案\n",
    "    filtered_df.to_csv(output_file, index=False)\n",
    "\n",
    "print(f\"已清除內文所有雜物，結果儲存至 {output_file}\")"
   ]
  }
 ],
 "metadata": {
  "kernelspec": {
   "display_name": "Python 3 (ipykernel)",
   "language": "python",
   "name": "python3"
  },
  "language_info": {
   "codemirror_mode": {
    "name": "ipython",
    "version": 3
   },
   "file_extension": ".py",
   "mimetype": "text/x-python",
   "name": "python",
   "nbconvert_exporter": "python",
   "pygments_lexer": "ipython3",
   "version": "3.13.0"
  }
 },
 "nbformat": 4,
 "nbformat_minor": 5
}
